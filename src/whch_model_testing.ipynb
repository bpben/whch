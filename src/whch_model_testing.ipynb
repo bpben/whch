{
 "cells": [
  {
   "cell_type": "markdown",
   "metadata": {},
   "source": [
    "# whetherChannel Algorithm testing\n",
    "This notebook outlines the steps for choosing the best-performing algorithm for the whetherChannel project.\n",
    "\n",
    "### - [Feature Engineering](#fe)\n",
    "### - [Model specification](#ms)\n",
    "### - [Testing](#t)\n"
   ]
  },
  {
   "cell_type": "code",
   "execution_count": 1,
   "metadata": {
    "collapsed": false
   },
   "outputs": [
    {
     "ename": "ImportError",
     "evalue": "No module named psycopg2",
     "output_type": "error",
     "traceback": [
      "\u001b[0;31m---------------------------------------------------------------------------\u001b[0m",
      "\u001b[0;31mImportError\u001b[0m                               Traceback (most recent call last)",
      "\u001b[0;32m<ipython-input-1-6c67a863b265>\u001b[0m in \u001b[0;36m<module>\u001b[0;34m()\u001b[0m\n\u001b[1;32m     18\u001b[0m \u001b[0;34m\u001b[0m\u001b[0m\n\u001b[1;32m     19\u001b[0m \u001b[0;32mfrom\u001b[0m \u001b[0msqlalchemy\u001b[0m \u001b[0;32mimport\u001b[0m \u001b[0mcreate_engine\u001b[0m\u001b[0;34m\u001b[0m\u001b[0m\n\u001b[0;32m---> 20\u001b[0;31m \u001b[0;32mimport\u001b[0m \u001b[0mpsycopg2\u001b[0m\u001b[0;34m\u001b[0m\u001b[0m\n\u001b[0m\u001b[1;32m     21\u001b[0m \u001b[0;34m\u001b[0m\u001b[0m\n\u001b[1;32m     22\u001b[0m \u001b[0mget_ipython\u001b[0m\u001b[0;34m(\u001b[0m\u001b[0;34m)\u001b[0m\u001b[0;34m.\u001b[0m\u001b[0mmagic\u001b[0m\u001b[0;34m(\u001b[0m\u001b[0;34mu'matplotlib inline'\u001b[0m\u001b[0;34m)\u001b[0m\u001b[0;34m\u001b[0m\u001b[0m\n",
      "\u001b[0;31mImportError\u001b[0m: No module named psycopg2"
     ]
    }
   ],
   "source": [
    "import gzip\n",
    "import os\n",
    "import glob\n",
    "import re\n",
    "import cPickle\n",
    "import time\n",
    "\n",
    "import scipy.stats as ss\n",
    "import pandas as pd\n",
    "import numpy as np\n",
    "from collections import defaultdict\n",
    "from sklearn import ensemble as ske\n",
    "from sklearn import grid_search as gs\n",
    "from sklearn import cross_validation as cv\n",
    "from sklearn.linear_model import LogisticRegression\n",
    "from sklearn.metrics import roc_auc_score, confusion_matrix, roc_curve, auc, precision_recall_curve, brier_score_loss\n",
    "from sklearn.preprocessing import Imputer, StandardScaler, LabelEncoder\n",
    "from sklearn.pipeline import make_pipeline \n",
    "\n",
    "from sqlalchemy import create_engine\n",
    "import psycopg2\n",
    "\n",
    "\n",
    "%matplotlib inline\n",
    "import matplotlib.pyplot as plt"
   ]
  },
  {
   "cell_type": "code",
   "execution_count": 13,
   "metadata": {
    "collapsed": false
   },
   "outputs": [],
   "source": [
    "#Change to testing directory, for logs/output\n",
    "os.chdir('../data/testing')"
   ]
  },
  {
   "cell_type": "code",
   "execution_count": 14,
   "metadata": {
    "collapsed": false
   },
   "outputs": [],
   "source": [
    "#Postgres login\n",
    "un = ''\n",
    "pw = ''\n",
    "db = ''\n",
    "engine = create_engine('postgres://%s:%s@localhost/%s'%(un,pw,db))"
   ]
  },
  {
   "cell_type": "code",
   "execution_count": 15,
   "metadata": {
    "collapsed": true
   },
   "outputs": [],
   "source": [
    "#Columns for exclusion\n",
    "add_ex = ['quadclass', 'goldsteinscale', 'numsources', 'numarticles', 'avgtone']"
   ]
  },
  {
   "cell_type": "code",
   "execution_count": 16,
   "metadata": {
    "collapsed": false
   },
   "outputs": [],
   "source": [
    "#Get codebook (type, country, group)\n",
    "#Recode primary/secondary as type1,type2\n",
    "recode = {'primary':'type1', 'secondary':'type2', 'tertiary':'type3'}\n",
    "codes = defaultdict(set)\n",
    "conn = psycopg2.connect(\"dbname={} user='{}' password='{}'\".format(db,un,pw))\n",
    "cur = conn.cursor()\n",
    "cur.execute(\"\"\"\n",
    "        select key,type from gd_codebook\n",
    "        \"\"\")\n",
    "for k in cur.fetchall():\n",
    "    if k[1] in ('primary','secondary','tertiary'):\n",
    "        codes['[0-9]type'].add(k[0])\n",
    "    elif k[1] == 'country':\n",
    "        codes['[0-9]country'].add(k[0])\n",
    "    elif k[1] == 'fipscountry':\n",
    "        codes['geo_country'].add(k[0])\n",
    "    elif k[1] == 'group':\n",
    "        codes['group'].add(k[0])\n",
    "conn.close()\n",
    "\n",
    "#Add \"none\" to the codes\n",
    "for k in codes:\n",
    "    codes[k].add(None)\n",
    "\n",
    "#Create sklearn encoder\n",
    "encodes = {}\n",
    "encodeKey = {}\n",
    "for k in codes:\n",
    "    encodes[k] = LabelEncoder().fit(list(codes[k]))\n",
    "    \n",
    "#Pickle encoder\n",
    "with open('sklearn_encoder.pkl','w') as outfile:\n",
    "    cPickle.dump(encodes, outfile, cPickle.HIGHEST_PROTOCOL)"
   ]
  },
  {
   "cell_type": "markdown",
   "metadata": {},
   "source": [
    "## <a name='fe'></a>Feature Engineering"
   ]
  },
  {
   "cell_type": "code",
   "execution_count": 17,
   "metadata": {
    "collapsed": false
   },
   "outputs": [],
   "source": [
    "#Read in, process and prepare data for testing\n",
    "def getdata(since, until, events_t, mentions_t, add_ex = []):\n",
    "    #Event data\n",
    "    print \"Getting events,\",\n",
    "    df_e = pd.read_sql('''\n",
    "                    SELECT * FROM {}\n",
    "                    where cast(dateadded as int)<{}\n",
    "                    and\n",
    "                    cast(dateadded as int)>={}\n",
    "                    '''.format(events_t,until,since),engine)\n",
    "    df_e.globaleventid = df_e.globaleventid.astype('int64')\n",
    "    df_e.set_index('globaleventid',inplace=True)\n",
    "    \n",
    "    #Mentions data\n",
    "    print \"mentions\"\n",
    "    df_m = pd.read_sql(\"\"\"\n",
    "                select globaleventid,\n",
    "                max(ap) as ap,\n",
    "                max(huf) as huf,\n",
    "                max(was) as was,\n",
    "                max(fox) as fox,\n",
    "                max(reu) as reu\n",
    "                from {} group by globaleventid\n",
    "                \"\"\".format(mentions_t),engine)\n",
    "    df_m.set_index('globaleventid',inplace=True)\n",
    "    \n",
    "    #Merge\n",
    "    df = df_e.join(df_m, how='inner')\n",
    "    \n",
    "    #Exclusion columns\n",
    "    ex = ['globaleventid', 'sourceurl','dateadded','sqldate'] + [x for x in df.columns if (re.search('name',x) is not None) |\n",
    "               ((re.search('geo_',x) is not None) & (re.search('geo_country',x) is None))]\n",
    "    ex += ['huf', 'fox', 'ap', 'reu', 'was']\n",
    "    if add_ex !=[]:\n",
    "        ex += add_ex\n",
    "        \n",
    "    #First pass, for iteration\n",
    "    features = [x for x in df.columns if (x not in ex)]\n",
    "    \n",
    "    #Ensure all observations mention a country/type that's in the codebook\n",
    "    drops = []\n",
    "    for k in codes:\n",
    "        for i in df.filter(regex=k).columns:\n",
    "            drops += list(df[~df[i].isin(codes[k])].index)\n",
    "    drops = set(drops)\n",
    "    \n",
    "    print \"Dropping obs with country/type not in codebook,\",\n",
    "    print \"Rows before: {}\".format(len(df)),\n",
    "    df.drop(list(drops),inplace=True)\n",
    "    print \"after: {}\".format(len(df))\n",
    "    \n",
    "    #List of colnames, by category\n",
    "    col2code = {}\n",
    "    #Unique values (for checking encoder completeness)\n",
    "    vals = defaultdict(list)\n",
    "    for k in codes:\n",
    "        for i in list(df_e.filter(regex=k).columns):\n",
    "            col2code[i] = k\n",
    "    \n",
    "    #Encode variables\n",
    "    print \"Encoding\"\n",
    "    remove = []\n",
    "    for f in features:\n",
    "        if df[f].dtype not in ('int64', 'float64'):\n",
    "            if re.search('act',f) is not None:\n",
    "                #If one of our categories, use label encoder\n",
    "                if f in col2code:\n",
    "                    df[f] = encodes[col2code[f]].transform(df[f])\n",
    "                #Otherwise, Just do cat codes\n",
    "                else:\n",
    "                    df[f] = df[f].astype('category').cat.codes\n",
    "            else:\n",
    "                df[f] = df[f].astype('float64')\n",
    "    #Reset index\n",
    "    df.reset_index(inplace=True)\n",
    "    return(df, features)"
   ]
  },
  {
   "cell_type": "code",
   "execution_count": 7,
   "metadata": {
    "collapsed": false
   },
   "outputs": [
    {
     "name": "stdout",
     "output_type": "stream",
     "text": [
      "Getting events, mentions\n",
      "Dropping obs with country/type not in codebook, Rows before: 350110 after: 327560\n",
      "Encoding\n"
     ]
    }
   ],
   "source": [
    "#Read in data\n",
    "#since/until data for training/validation\n",
    "since = 20160701\n",
    "until = 20160831\n",
    "df, features = getdata(since,until,'gd_eventsb','gd_mentionsb',add_ex = add_ex)"
   ]
  },
  {
   "cell_type": "code",
   "execution_count": 18,
   "metadata": {
    "collapsed": false
   },
   "outputs": [],
   "source": [
    "#Create train/test - Test must not have events in train\n",
    "def traintest(df,features,target):\n",
    "    eventid = df.globaleventid.unique()\n",
    "    tr_ids = eventid[np.random.rand(len(eventid)) < 0.8]\n",
    "    train = df[df.globaleventid.isin(tr_ids)]\n",
    "    tr_x,tr_y = train[features], train[target] \n",
    "    test = df[~df.globaleventid.isin(tr_ids)]\n",
    "    te_x, te_y = test[features], test[target] \n",
    "    return(tr_x,tr_y,te_x,te_y)"
   ]
  },
  {
   "cell_type": "markdown",
   "metadata": {},
   "source": [
    "## <a name='ms'></a>Model specification"
   ]
  },
  {
   "cell_type": "code",
   "execution_count": 9,
   "metadata": {
    "collapsed": false
   },
   "outputs": [],
   "source": [
    "#Network targets\n",
    "targets = ['huf', 'fox', 'ap', 'reu', 'was']\n",
    "\n",
    "#Models to use\n",
    "models = ['RandomForest','GradientBoost','LogisticRegression'] \n",
    "params = dict()\n",
    "\n",
    "#general hyperparameters\n",
    "njobs = -1\n",
    "pmetric = 'roc_auc' #Use because class is rare, accuracy wrong metric\n",
    "verb = 1\n",
    "\n",
    "\n",
    "#setting up tuning parameters for randomizedsearchcv\n",
    "params['iter'] = 5 #number of iterations in grid search\n",
    "params['cvsize'] = 0.5 #fraction of months included in each cross-validation \n",
    "params['folds'] = 5 #folds for cross-validation\n",
    "params['gsub'] = 0.5 #subsample of total dataset size\n",
    "\n",
    "#RandomForest model parameters\n",
    "params['RandomForest'] = dict()\n",
    "params['RandomForest']['n_estimators'] = [2**8] #number of trees in the forest for grid search\n",
    "params['RandomForest']['max_features'] = ss.beta(a=2,b=15) #number of features to consider at each split\n",
    "params['RandomForest']['max_leaf_nodes'] = ss.nbinom(n=2,p=0.001,loc=100) #max number of leaves\n",
    "\n",
    "#GradientBoost model parameters\n",
    "params['GradientBoost'] = dict()\n",
    "params['GradientBoost']['loss'] = ['exponential']\n",
    "params['GradientBoost']['n_estimators'] = ss.nbinom(n=2,p=0.004,loc=100)\n",
    "params['GradientBoost']['learning_rate'] = ss.beta(a=2,b=25) \n",
    "params['GradientBoost']['max_leaf_nodes'] = ss.nbinom(n=3,p=0.2,loc=2) \n",
    "params['GradientBoost']['subsample'] = ss.beta(a=4,b=1)\n",
    "params['GradientBoost']['max_features'] = ss.beta(a=2,b=30)\n",
    "\n",
    "#LogisticRegression model parameters\n",
    "params['LogisticRegression'] = dict()\n",
    "params['LogisticRegression']['penalty'] = 'l2'\n",
    "params['LogisticRegression']['C'] = ss.beta(a=2,b=25)"
   ]
  },
  {
   "cell_type": "markdown",
   "metadata": {},
   "source": [
    "## <a name='t'></a>Testing"
   ]
  },
  {
   "cell_type": "code",
   "execution_count": 10,
   "metadata": {
    "collapsed": true
   },
   "outputs": [],
   "source": [
    "def gridsearch(data,target,features,model,mparams,labelcol,\n",
    "               write=False,note=''):\n",
    "    \n",
    "    #Get train/test\n",
    "    x,y = data[features], data[target]\n",
    "    if 'GradientBoost' in model:\n",
    "        clf = ske.GradientBoostingClassifier()\n",
    "        grid = gs.RandomizedSearchCV(clf, \n",
    "                    dict(\n",
    "                        loss=mparams['loss'],\n",
    "                        n_estimators=mparams['n_estimators'],\n",
    "                        learning_rate=mparams['learning_rate'],\n",
    "                        max_leaf_nodes=mparams['max_leaf_nodes'],\n",
    "                        max_features=mparams['max_features'],\n",
    "                        subsample=mparams['subsample']\n",
    "                        ), \n",
    "                    scoring=pmetric, n_jobs=njobs, \n",
    "                    cv=cv.LabelShuffleSplit(data[labelcol], n_iter=params['folds'], test_size=params['cvsize']), \n",
    "                    verbose=verb, refit=False, n_iter=params['iter'])\n",
    "        \n",
    "    elif 'RandomForest' in model:\n",
    "        rf = ske.RandomForestClassifier(criterion='gini', bootstrap=True, n_jobs=1, \n",
    "                verbose=0, oob_score=False, class_weight='balanced_subsample')        \n",
    "        grid = gs.RandomizedSearchCV(rf, \n",
    "                    dict(\n",
    "                        n_estimators=mparams['n_estimators'],\n",
    "                        max_features=mparams['max_features'],\n",
    "                        max_leaf_nodes=mparams['max_leaf_nodes']\n",
    "                        ), \n",
    "                    scoring=pmetric, n_jobs=njobs, \n",
    "                    cv=cv.LabelShuffleSplit(data[labelcol], n_iter=params['folds'], test_size=params['cvsize']), \n",
    "                    verbose=verb, refit=False, n_iter=params['iter'])\n",
    "    \n",
    "    elif 'LogisticRegression' in model:\n",
    "        lr = LogisticRegression(penalty='l2',class_weight='balanced')\n",
    "        grid = gs.RandomizedSearchCV(lr, \n",
    "                    dict(\n",
    "                        C=mparams['C']\n",
    "                        ), \n",
    "                    scoring=pmetric, n_jobs=njobs, \n",
    "                    cv=cv.LabelShuffleSplit(data[labelcol], n_iter=params['folds'], test_size=params['cvsize']), \n",
    "                    verbose=verb, refit=False, n_iter=params['iter'])\n",
    "        \n",
    "    grid.fit(X=x,y=y)\n",
    "    \n",
    "    bp = grid.best_params_\n",
    "    gperf = []\n",
    "    for i in range(0,len(grid.grid_scores_)):\n",
    "        gperf.append(grid.grid_scores_[i][0])\n",
    "        gperf[i]['perf'] = grid.grid_scores_[i][1].round(4)\n",
    "\n",
    "    p = pd.DataFrame(gperf)\n",
    "    print p.sort_values(by='perf', ascending=False)[:20]\n",
    "    for i in p.columns.drop('perf'):\n",
    "        p.groupby(pd.qcut(p[i],5)).perf.mean().round(4) \n",
    "        print p.groupby(p[i]).perf.mean().round(4)\n",
    "    print model+' for '+target+' '+time.strftime(\"%a, %d %b %Y %H:%M:%S\", time.localtime())\n",
    "    if write:\n",
    "        pd.DataFrame(gperf).sort_values(by='perf', ascending=False).to_csv(target+'_'+model+'_perf.csv')\n",
    "        with open(target+'_best_params.txt', 'a') as f:\n",
    "            f.write(str(bp)+note+'\\n')\n",
    "    return bp"
   ]
  },
  {
   "cell_type": "code",
   "execution_count": 11,
   "metadata": {
    "collapsed": false
   },
   "outputs": [
    {
     "name": "stdout",
     "output_type": "stream",
     "text": [
      "Fitting 5 folds for each of 5 candidates, totalling 25 fits\n"
     ]
    },
    {
     "name": "stderr",
     "output_type": "stream",
     "text": [
      "[Parallel(n_jobs=-1)]: Done  25 out of  25 | elapsed:  9.4min finished\n"
     ]
    },
    {
     "name": "stdout",
     "output_type": "stream",
     "text": [
      "   max_features  max_leaf_nodes  n_estimators    perf\n",
      "3      0.185838            1421           256  0.6549\n",
      "4      0.082877            3178           256  0.6533\n",
      "1      0.147786             261           256  0.6528\n",
      "2      0.078079            1180           256  0.6528\n",
      "0      0.138167            5615           256  0.6498\n",
      "max_features\n",
      "0.078079    0.6528\n",
      "0.082877    0.6533\n",
      "0.138167    0.6498\n",
      "0.147786    0.6528\n",
      "0.185838    0.6549\n",
      "Name: perf, dtype: float64\n",
      "max_leaf_nodes\n",
      "261     0.6528\n",
      "1180    0.6528\n",
      "1421    0.6549\n",
      "3178    0.6533\n",
      "5615    0.6498\n",
      "Name: perf, dtype: float64\n",
      "n_estimators\n",
      "256    0.6527\n",
      "Name: perf, dtype: float64\n",
      "RandomForest for huf Wed, 21 Sep 2016 15:36:20\n",
      "Fitting 5 folds for each of 5 candidates, totalling 25 fits\n"
     ]
    },
    {
     "name": "stderr",
     "output_type": "stream",
     "text": [
      "[Parallel(n_jobs=-1)]: Done  25 out of  25 | elapsed:  5.9min finished\n"
     ]
    },
    {
     "name": "stdout",
     "output_type": "stream",
     "text": [
      "   learning_rate         loss  max_features  max_leaf_nodes  n_estimators  \\\n",
      "2       0.162357  exponential      0.063092              11           647   \n",
      "1       0.073467  exponential      0.070384              10           269   \n",
      "3       0.032251  exponential      0.050461               6           529   \n",
      "4       0.029033  exponential      0.035938              13           450   \n",
      "0       0.010829  exponential      0.059603              22           454   \n",
      "\n",
      "     perf  subsample  \n",
      "2  0.6610   0.907596  \n",
      "1  0.6472   0.644004  \n",
      "3  0.6467   0.869767  \n",
      "4  0.6465   0.826585  \n",
      "0  0.6324   0.949858  \n",
      "learning_rate\n",
      "0.010829    0.6324\n",
      "0.029033    0.6465\n",
      "0.032251    0.6467\n",
      "0.073467    0.6472\n",
      "0.162357    0.6610\n",
      "Name: perf, dtype: float64\n",
      "loss\n",
      "exponential    0.6468\n",
      "Name: perf, dtype: float64\n",
      "max_features\n",
      "0.035938    0.6465\n",
      "0.050461    0.6467\n",
      "0.059603    0.6324\n",
      "0.063092    0.6610\n",
      "0.070384    0.6472\n",
      "Name: perf, dtype: float64\n",
      "max_leaf_nodes\n",
      "6     0.6467\n",
      "10    0.6472\n",
      "11    0.6610\n",
      "13    0.6465\n",
      "22    0.6324\n",
      "Name: perf, dtype: float64\n",
      "n_estimators\n",
      "269    0.6472\n",
      "450    0.6465\n",
      "454    0.6324\n",
      "529    0.6467\n",
      "647    0.6610\n",
      "Name: perf, dtype: float64\n",
      "subsample\n",
      "0.644004    0.6472\n",
      "0.826585    0.6465\n",
      "0.869767    0.6467\n",
      "0.907596    0.6610\n",
      "0.949858    0.6324\n",
      "Name: perf, dtype: float64\n",
      "GradientBoost for huf Wed, 21 Sep 2016 15:42:16\n",
      "Fitting 5 folds for each of 5 candidates, totalling 25 fits\n"
     ]
    },
    {
     "name": "stderr",
     "output_type": "stream",
     "text": [
      "[Parallel(n_jobs=-1)]: Done  25 out of  25 | elapsed:  1.3min finished\n"
     ]
    },
    {
     "name": "stdout",
     "output_type": "stream",
     "text": [
      "          C    perf\n",
      "2  0.009623  0.5990\n",
      "0  0.055753  0.5978\n",
      "3  0.017744  0.5962\n",
      "1  0.142477  0.5955\n",
      "4  0.050815  0.5952\n",
      "C\n",
      "0.009623    0.5990\n",
      "0.017744    0.5962\n",
      "0.050815    0.5952\n",
      "0.055753    0.5978\n",
      "0.142477    0.5955\n",
      "Name: perf, dtype: float64\n",
      "LogisticRegression for huf Wed, 21 Sep 2016 15:43:32\n",
      "Fitting 5 folds for each of 5 candidates, totalling 25 fits\n"
     ]
    },
    {
     "name": "stderr",
     "output_type": "stream",
     "text": [
      "[Parallel(n_jobs=-1)]: Done  25 out of  25 | elapsed:  8.9min finished\n"
     ]
    },
    {
     "name": "stdout",
     "output_type": "stream",
     "text": [
      "   max_features  max_leaf_nodes  n_estimators    perf\n",
      "2      0.063056             966           256  0.6294\n",
      "1      0.119851            1660           256  0.6280\n",
      "3      0.099695             305           256  0.6257\n",
      "0      0.032315            1362           256  0.6219\n",
      "4      0.249845            5247           256  0.6215\n",
      "max_features\n",
      "0.032315    0.6219\n",
      "0.063056    0.6294\n",
      "0.099695    0.6257\n",
      "0.119851    0.6280\n",
      "0.249845    0.6215\n",
      "Name: perf, dtype: float64\n",
      "max_leaf_nodes\n",
      "305     0.6257\n",
      "966     0.6294\n",
      "1362    0.6219\n",
      "1660    0.6280\n",
      "5247    0.6215\n",
      "Name: perf, dtype: float64\n",
      "n_estimators\n",
      "256    0.6253\n",
      "Name: perf, dtype: float64\n",
      "RandomForest for fox Wed, 21 Sep 2016 15:52:28\n",
      "Fitting 5 folds for each of 5 candidates, totalling 25 fits\n"
     ]
    },
    {
     "ename": "KeyboardInterrupt",
     "evalue": "",
     "output_type": "error",
     "traceback": [
      "\u001b[0;31m---------------------------------------------------------------------------\u001b[0m",
      "\u001b[0;31mKeyboardInterrupt\u001b[0m                         Traceback (most recent call last)",
      "\u001b[0;32m<ipython-input-11-751f5058c608>\u001b[0m in \u001b[0;36m<module>\u001b[0;34m()\u001b[0m\n\u001b[1;32m      4\u001b[0m     \u001b[0;32mfor\u001b[0m \u001b[0mm\u001b[0m \u001b[0;32min\u001b[0m \u001b[0mmodels\u001b[0m\u001b[0;34m:\u001b[0m\u001b[0;34m\u001b[0m\u001b[0m\n\u001b[1;32m      5\u001b[0m         bpDict[t+m] = gridsearch(df,t,features,m,params[m],'sqldate',\n\u001b[0;32m----> 6\u001b[0;31m                write=True)\n\u001b[0m",
      "\u001b[0;32m<ipython-input-10-5165ba532b57>\u001b[0m in \u001b[0;36mgridsearch\u001b[0;34m(data, target, features, model, mparams, labelcol, write, note)\u001b[0m\n\u001b[1;32m     43\u001b[0m                     verbose=verb, refit=False, n_iter=params['iter'])\n\u001b[1;32m     44\u001b[0m \u001b[0;34m\u001b[0m\u001b[0m\n\u001b[0;32m---> 45\u001b[0;31m     \u001b[0mgrid\u001b[0m\u001b[0;34m.\u001b[0m\u001b[0mfit\u001b[0m\u001b[0;34m(\u001b[0m\u001b[0mX\u001b[0m\u001b[0;34m=\u001b[0m\u001b[0mx\u001b[0m\u001b[0;34m,\u001b[0m\u001b[0my\u001b[0m\u001b[0;34m=\u001b[0m\u001b[0my\u001b[0m\u001b[0;34m)\u001b[0m\u001b[0;34m\u001b[0m\u001b[0m\n\u001b[0m\u001b[1;32m     46\u001b[0m \u001b[0;34m\u001b[0m\u001b[0m\n\u001b[1;32m     47\u001b[0m     \u001b[0mbp\u001b[0m \u001b[0;34m=\u001b[0m \u001b[0mgrid\u001b[0m\u001b[0;34m.\u001b[0m\u001b[0mbest_params_\u001b[0m\u001b[0;34m\u001b[0m\u001b[0m\n",
      "\u001b[0;32m/Users/B/anaconda/envs/gdelt/lib/python2.7/site-packages/sklearn/grid_search.pyc\u001b[0m in \u001b[0;36mfit\u001b[0;34m(self, X, y)\u001b[0m\n\u001b[1;32m    994\u001b[0m                                           \u001b[0mself\u001b[0m\u001b[0;34m.\u001b[0m\u001b[0mn_iter\u001b[0m\u001b[0;34m,\u001b[0m\u001b[0;34m\u001b[0m\u001b[0m\n\u001b[1;32m    995\u001b[0m                                           random_state=self.random_state)\n\u001b[0;32m--> 996\u001b[0;31m         \u001b[0;32mreturn\u001b[0m \u001b[0mself\u001b[0m\u001b[0;34m.\u001b[0m\u001b[0m_fit\u001b[0m\u001b[0;34m(\u001b[0m\u001b[0mX\u001b[0m\u001b[0;34m,\u001b[0m \u001b[0my\u001b[0m\u001b[0;34m,\u001b[0m \u001b[0msampled_params\u001b[0m\u001b[0;34m)\u001b[0m\u001b[0;34m\u001b[0m\u001b[0m\n\u001b[0m",
      "\u001b[0;32m/Users/B/anaconda/envs/gdelt/lib/python2.7/site-packages/sklearn/grid_search.pyc\u001b[0m in \u001b[0;36m_fit\u001b[0;34m(self, X, y, parameter_iterable)\u001b[0m\n\u001b[1;32m    551\u001b[0m                                     \u001b[0mself\u001b[0m\u001b[0;34m.\u001b[0m\u001b[0mfit_params\u001b[0m\u001b[0;34m,\u001b[0m \u001b[0mreturn_parameters\u001b[0m\u001b[0;34m=\u001b[0m\u001b[0mTrue\u001b[0m\u001b[0;34m,\u001b[0m\u001b[0;34m\u001b[0m\u001b[0m\n\u001b[1;32m    552\u001b[0m                                     error_score=self.error_score)\n\u001b[0;32m--> 553\u001b[0;31m                 \u001b[0;32mfor\u001b[0m \u001b[0mparameters\u001b[0m \u001b[0;32min\u001b[0m \u001b[0mparameter_iterable\u001b[0m\u001b[0;34m\u001b[0m\u001b[0m\n\u001b[0m\u001b[1;32m    554\u001b[0m                 for train, test in cv)\n\u001b[1;32m    555\u001b[0m \u001b[0;34m\u001b[0m\u001b[0m\n",
      "\u001b[0;32m/Users/B/anaconda/envs/gdelt/lib/python2.7/site-packages/sklearn/externals/joblib/parallel.pyc\u001b[0m in \u001b[0;36m__call__\u001b[0;34m(self, iterable)\u001b[0m\n\u001b[1;32m    808\u001b[0m                 \u001b[0;31m# consumption.\u001b[0m\u001b[0;34m\u001b[0m\u001b[0;34m\u001b[0m\u001b[0m\n\u001b[1;32m    809\u001b[0m                 \u001b[0mself\u001b[0m\u001b[0;34m.\u001b[0m\u001b[0m_iterating\u001b[0m \u001b[0;34m=\u001b[0m \u001b[0mFalse\u001b[0m\u001b[0;34m\u001b[0m\u001b[0m\n\u001b[0;32m--> 810\u001b[0;31m             \u001b[0mself\u001b[0m\u001b[0;34m.\u001b[0m\u001b[0mretrieve\u001b[0m\u001b[0;34m(\u001b[0m\u001b[0;34m)\u001b[0m\u001b[0;34m\u001b[0m\u001b[0m\n\u001b[0m\u001b[1;32m    811\u001b[0m             \u001b[0;31m# Make sure that we get a last message telling us we are done\u001b[0m\u001b[0;34m\u001b[0m\u001b[0;34m\u001b[0m\u001b[0m\n\u001b[1;32m    812\u001b[0m             \u001b[0melapsed_time\u001b[0m \u001b[0;34m=\u001b[0m \u001b[0mtime\u001b[0m\u001b[0;34m.\u001b[0m\u001b[0mtime\u001b[0m\u001b[0;34m(\u001b[0m\u001b[0;34m)\u001b[0m \u001b[0;34m-\u001b[0m \u001b[0mself\u001b[0m\u001b[0;34m.\u001b[0m\u001b[0m_start_time\u001b[0m\u001b[0;34m\u001b[0m\u001b[0m\n",
      "\u001b[0;32m/Users/B/anaconda/envs/gdelt/lib/python2.7/site-packages/sklearn/externals/joblib/parallel.pyc\u001b[0m in \u001b[0;36mretrieve\u001b[0;34m(self)\u001b[0m\n\u001b[1;32m    755\u001b[0m                     \u001b[0;31m# a working pool as they expect.\u001b[0m\u001b[0;34m\u001b[0m\u001b[0;34m\u001b[0m\u001b[0m\n\u001b[1;32m    756\u001b[0m                     \u001b[0mself\u001b[0m\u001b[0;34m.\u001b[0m\u001b[0m_initialize_pool\u001b[0m\u001b[0;34m(\u001b[0m\u001b[0;34m)\u001b[0m\u001b[0;34m\u001b[0m\u001b[0m\n\u001b[0;32m--> 757\u001b[0;31m                 \u001b[0;32mraise\u001b[0m \u001b[0mexception\u001b[0m\u001b[0;34m\u001b[0m\u001b[0m\n\u001b[0m\u001b[1;32m    758\u001b[0m \u001b[0;34m\u001b[0m\u001b[0m\n\u001b[1;32m    759\u001b[0m     \u001b[0;32mdef\u001b[0m \u001b[0m__call__\u001b[0m\u001b[0;34m(\u001b[0m\u001b[0mself\u001b[0m\u001b[0;34m,\u001b[0m \u001b[0miterable\u001b[0m\u001b[0;34m)\u001b[0m\u001b[0;34m:\u001b[0m\u001b[0;34m\u001b[0m\u001b[0m\n",
      "\u001b[0;31mKeyboardInterrupt\u001b[0m: "
     ]
    }
   ],
   "source": [
    "#Run gridsearch\n",
    "bpDict = {}\n",
    "for t in targets:\n",
    "    for m in models: \n",
    "        bpDict[t+m] = gridsearch(df,t,features,m,params[m],'sqldate',\n",
    "               write=True)"
   ]
  },
  {
   "cell_type": "markdown",
   "metadata": {
    "collapsed": false
   },
   "source": [
    "### Output model auc"
   ]
  },
  {
   "cell_type": "code",
   "execution_count": 166,
   "metadata": {
    "collapsed": false
   },
   "outputs": [],
   "source": [
    "def aucplt(data, best_params,features,target,save=False):\n",
    "    tr_x,tr_y,te_x,te_y = traintest(data,features,target)\n",
    "    \n",
    "    plt.figure(1)\n",
    "    plt.plot([0, 1], [0, 1], 'k--')\n",
    "    \n",
    "    for i in best_params:\n",
    "        m = None\n",
    "        if i == target+'RandomForest':\n",
    "            m = ske.RandomForestClassifier(n_estimators=best_params[i]['n_estimators'], \n",
    "                max_features=best_params[i]['max_features'], \n",
    "                max_leaf_nodes=best_params[i]['max_leaf_nodes'],\n",
    "                criterion='gini', bootstrap=True, n_jobs=njobs,\n",
    "                oob_score=False, class_weight='balanced_subsample')\n",
    "        elif i == target+'GradientBoost':\n",
    "            m = ske.GradientBoostingClassifier(loss=best_params[i]['loss'],\n",
    "                n_estimators=best_params[i]['n_estimators'], learning_rate=best_params[i]['learning_rate'],\n",
    "                max_leaf_nodes=best_params[i]['max_leaf_nodes'],subsample=best_params[i]['subsample'])\n",
    "        elif i == target+'LogisticRegression':\n",
    "            m = LogisticRegression(penalty='l2',class_weight='balanced', C = best_params[i]['C'])\n",
    "        if m is not None:\n",
    "            fit_m = m.fit(tr_x,tr_y)\n",
    "            m_pred = m.predict_proba(te_x)[:, 1]\n",
    "            fpr_m, tpr_m, _ = roc_curve(te_y, m_pred)\n",
    "            plt.plot(fpr_m, tpr_m, label=i)\n",
    "    \n",
    "    plt.xlabel('False positive rate')\n",
    "    plt.ylabel('True positive rate')\n",
    "    plt.title('ROC curve for '+target)\n",
    "    plt.legend(loc='best')\n",
    "    \n",
    "    if save:\n",
    "        fig.savefig(target+'_roc.png')\n",
    "    plt.show()"
   ]
  },
  {
   "cell_type": "code",
   "execution_count": 167,
   "metadata": {
    "collapsed": false
   },
   "outputs": [
    {
     "data": {
      "image/png": "[encoded data removed]",
      "text/plain": [
       "<matplotlib.figure.Figure at 0x12ff47510>"
      ]
     },
     "metadata": {},
     "output_type": "display_data"
    }
   ],
   "source": [
    "for t in target:\n",
    "    aucplt(df,bpDict,features,t,save=True)"
   ]
  },
  {
   "cell_type": "markdown",
   "metadata": {},
   "source": [
    "### Run best model, pickle"
   ]
  },
  {
   "cell_type": "code",
   "execution_count": 372,
   "metadata": {
    "collapsed": true
   },
   "outputs": [],
   "source": [
    "def runmodel(data,best_params, features, target, models):\n",
    "    base = 0.5\n",
    "    \n",
    "    for m in models:\n",
    "        if best_params[target+m]['perf']>base:\n",
    "            base = best_params[target+m]['perf']\n",
    "            best = m\n",
    "    \n",
    "    if best == 'RandomForest':\n",
    "        m = ske.RandomForestClassifier(n_estimators=best_params[target+best]['n_estimators'], \n",
    "            max_features=best_params[target+best]['max_features'], \n",
    "            max_leaf_nodes=best_params[target+best]['max_leaf_nodes'],\n",
    "            criterion='gini', bootstrap=True, n_jobs=njobs,\n",
    "            oob_score=False, class_weight='balanced_subsample')\n",
    "    elif best == 'GradientBoost':\n",
    "        m = ske.GradientBoostingClassifier(loss=best_params[target+best]['loss'],\n",
    "            n_estimators=best_params[target+best]['n_estimators'], learning_rate=best_params[target+best]['learning_rate'],\n",
    "            max_leaf_nodes=best_params[target+best]['max_leaf_nodes'],subsample=best_params[target+best]['subsample'])\n",
    "    elif best == 'LogisticRegression':\n",
    "        m = LogisticRegression(penalty='l2',class_weight='balanced', C = best_params[target+best]['C'])\n",
    "    \n",
    "    fit_m = m.fit(data[features],data[target])\n",
    "    \n",
    "    with open(target+'_'+best+'_model.pkl','wb') as model_file:\n",
    "        cPickle.dump(m, model_file, cPickle.HIGHEST_PROTOCOL)\n",
    "    \n",
    "    return(fit_m)"
   ]
  },
  {
   "cell_type": "code",
   "execution_count": 373,
   "metadata": {
    "collapsed": false
   },
   "outputs": [],
   "source": [
    "for t in targets:\n",
    "    runmodel(df,bpDict,features,t,models)"
   ]
  }
 ],
 "metadata": {
  "anaconda-cloud": {},
  "kernelspec": {
   "display_name": "Python [Root]",
   "language": "python",
   "name": "Python [Root]"
  },
  "language_info": {
   "codemirror_mode": {
    "name": "ipython",
    "version": 2
   },
   "file_extension": ".py",
   "mimetype": "text/x-python",
   "name": "python",
   "nbconvert_exporter": "python",
   "pygments_lexer": "ipython2",
   "version": "2.7.12"
  }
 },
 "nbformat": 4,
 "nbformat_minor": 1
}
